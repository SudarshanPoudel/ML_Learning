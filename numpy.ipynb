{
 "cells": [
  {
   "cell_type": "code",
   "execution_count": 2,
   "metadata": {},
   "outputs": [
    {
     "name": "stdout",
     "output_type": "stream",
     "text": [
      "<class 'list'>\n"
     ]
    }
   ],
   "source": [
    "#Import Numpy\n",
    "import numpy as np\n",
    "\n",
    "#list\n",
    "list1 = [1, 2, 3, 4, 5, 6, 7, 8, 9]\n",
    "print(type(list1))"
   ]
  },
  {
   "cell_type": "code",
   "execution_count": 3,
   "metadata": {},
   "outputs": [
    {
     "name": "stdout",
     "output_type": "stream",
     "text": [
      "[1 2 3 4]\n",
      "<class 'numpy.ndarray'>\n"
     ]
    }
   ],
   "source": [
    "#Numpy arrray\n",
    "list2 = np.array([1, 2, 3, 4])\n",
    "print(list2)\n",
    "print(type(list2))\n"
   ]
  },
  {
   "cell_type": "code",
   "execution_count": 4,
   "metadata": {},
   "outputs": [
    {
     "name": "stdout",
     "output_type": "stream",
     "text": [
      "(2, 4)\n",
      "(4,)\n"
     ]
    }
   ],
   "source": [
    "#Numpy multi-dimentional array\n",
    "ndArray = np.array([[1, 2, 3, 4], [5, 6, 7, 8]])\n",
    "\n",
    "print(ndArray.shape)\n",
    "print(list2.shape)"
   ]
  },
  {
   "cell_type": "code",
   "execution_count": 5,
   "metadata": {},
   "outputs": [
    {
     "name": "stdout",
     "output_type": "stream",
     "text": [
      "<class 'numpy.float64'>\n"
     ]
    }
   ],
   "source": [
    "#Changing datatype\n",
    "arrayTypechange = np.array([1, 2, 3, 4], dtype=float)\n",
    "print(type(arrayTypechange[2]))"
   ]
  },
  {
   "cell_type": "code",
   "execution_count": 6,
   "metadata": {},
   "outputs": [
    {
     "name": "stdout",
     "output_type": "stream",
     "text": [
      "[[0 0 0 0 0]\n",
      " [0 0 0 0 0]\n",
      " [0 0 0 0 0]\n",
      " [0 0 0 0 0]]\n"
     ]
    }
   ],
   "source": [
    "#Inatilize arrays\n",
    "\n",
    "#all 0\n",
    "allZero = np.zeros((4, 5), dtype=int)\n",
    "print(allZero)"
   ]
  },
  {
   "cell_type": "code",
   "execution_count": 7,
   "metadata": {},
   "outputs": [
    {
     "name": "stdout",
     "output_type": "stream",
     "text": [
      "[[1. 1. 1.]\n",
      " [1. 1. 1.]\n",
      " [1. 1. 1.]]\n"
     ]
    }
   ],
   "source": [
    "#all 1\n",
    "allOne = np.ones((3, 3))\n",
    "\n",
    "print(allOne)"
   ]
  },
  {
   "cell_type": "code",
   "execution_count": 8,
   "metadata": {},
   "outputs": [
    {
     "name": "stdout",
     "output_type": "stream",
     "text": [
      "[[10 10 10 10 10]\n",
      " [10 10 10 10 10]\n",
      " [10 10 10 10 10]\n",
      " [10 10 10 10 10]\n",
      " [10 10 10 10 10]]\n"
     ]
    }
   ],
   "source": [
    "#particular Value\n",
    "\n",
    "# allTens = np.zeros((5, 5), dtype=int) + 10\n",
    "#or\n",
    "\n",
    "allTens = np.full((5, 5), 10)\n",
    "print(allTens)\n"
   ]
  },
  {
   "cell_type": "code",
   "execution_count": 9,
   "metadata": {},
   "outputs": [
    {
     "name": "stdout",
     "output_type": "stream",
     "text": [
      "[[1. 0. 0. 0. 0.]\n",
      " [0. 1. 0. 0. 0.]\n",
      " [0. 0. 1. 0. 0.]\n",
      " [0. 0. 0. 1. 0.]\n",
      " [0. 0. 0. 0. 1.]]\n"
     ]
    }
   ],
   "source": [
    "#Identity Matrix\n",
    "identity = np.eye(5)\n",
    "print(identity)"
   ]
  },
  {
   "cell_type": "code",
   "execution_count": 10,
   "metadata": {},
   "outputs": [
    {
     "name": "stdout",
     "output_type": "stream",
     "text": [
      "[[0.28148596 0.30782931]\n",
      " [0.00681443 0.8621143 ]]\n"
     ]
    }
   ],
   "source": [
    "#random\n",
    "r = np.random.random((2, 2))\n",
    "print(r)"
   ]
  },
  {
   "cell_type": "code",
   "execution_count": 11,
   "metadata": {},
   "outputs": [
    {
     "name": "stdout",
     "output_type": "stream",
     "text": [
      "[[30 13 62]\n",
      " [95 82 27]\n",
      " [23 33 57]]\n"
     ]
    }
   ],
   "source": [
    "#random int\n",
    "ran = np.random.randint(10, 100, (3, 3))\n",
    "print(ran)"
   ]
  },
  {
   "cell_type": "code",
   "execution_count": 13,
   "metadata": {},
   "outputs": [
    {
     "name": "stdout",
     "output_type": "stream",
     "text": [
      "[10 16 22 28]\n"
     ]
    }
   ],
   "source": [
    "#arrays of evenly spaced value\n",
    "# spa = np.linspace(10, 30, 6) #Give the no of values\n",
    "spa = np.arange(10, 30, 6) #Give the space\n",
    "print(spa)"
   ]
  },
  {
   "cell_type": "code",
   "execution_count": 17,
   "metadata": {},
   "outputs": [
    {
     "name": "stdout",
     "output_type": "stream",
     "text": [
      "<class 'list'>\n",
      "[1 2 3 4]\n"
     ]
    }
   ],
   "source": [
    "#Convert list to array\n",
    "list = [1, 2, 3, 4]\n",
    "\n",
    "npArr = np.asarray(list)\n",
    "print(npArr)"
   ]
  },
  {
   "cell_type": "code",
   "execution_count": 21,
   "metadata": {},
   "outputs": [
    {
     "name": "stdout",
     "output_type": "stream",
     "text": [
      "[[[ 3 79]\n",
      "  [ 9 30]\n",
      "  [67 30]]\n",
      "\n",
      " [[74 15]\n",
      "  [30 41]\n",
      "  [62 78]]]\n"
     ]
    }
   ],
   "source": [
    "#Analyzing NP array\n",
    "\n",
    "c = np.random.randint(1, 100, (2, 3, 2))\n",
    "print(c)"
   ]
  },
  {
   "cell_type": "code",
   "execution_count": 25,
   "metadata": {},
   "outputs": [
    {
     "name": "stdout",
     "output_type": "stream",
     "text": [
      "3\n",
      "(2, 3, 2)\n"
     ]
    }
   ],
   "source": [
    "#Array no of dimentions\n",
    "print(c.ndim)\n",
    "\n",
    "#Array dimentions\n",
    "print(c.shape)"
   ]
  },
  {
   "cell_type": "code",
   "execution_count": 26,
   "metadata": {},
   "outputs": [
    {
     "name": "stdout",
     "output_type": "stream",
     "text": [
      "12\n"
     ]
    }
   ],
   "source": [
    "#No of elements\n",
    "print(c.size)"
   ]
  },
  {
   "cell_type": "code",
   "execution_count": 27,
   "metadata": {},
   "outputs": [
    {
     "name": "stdout",
     "output_type": "stream",
     "text": [
      "int32\n"
     ]
    }
   ],
   "source": [
    "#Array datatype\n",
    "print(c.dtype)"
   ]
  },
  {
   "cell_type": "code",
   "execution_count": 35,
   "metadata": {},
   "outputs": [
    {
     "name": "stdout",
     "output_type": "stream",
     "text": [
      "[[1 1 8]\n",
      " [3 6 5]\n",
      " [1 9 4]]\n",
      "[[13 18 14]\n",
      " [12 15 18]\n",
      " [12 19 12]]\n"
     ]
    }
   ],
   "source": [
    "#Mathematical operations in np array\n",
    "a = np.random.randint(1, 10, (3, 3))\n",
    "b = np.random.randint(10, 20, (3, 3))\n",
    "\n",
    "print(a)\n",
    "print(b)"
   ]
  },
  {
   "cell_type": "code",
   "execution_count": 36,
   "metadata": {},
   "outputs": [
    {
     "name": "stdout",
     "output_type": "stream",
     "text": [
      "[[14 19 22]\n",
      " [15 21 23]\n",
      " [13 28 16]]\n",
      "[[14 19 22]\n",
      " [15 21 23]\n",
      " [13 28 16]]\n"
     ]
    }
   ],
   "source": [
    "#Add array/Matrix\n",
    "print(a + b)\n",
    "#or\n",
    "print(np.add(a, b))"
   ]
  },
  {
   "cell_type": "code",
   "execution_count": 47,
   "metadata": {},
   "outputs": [
    {
     "name": "stdout",
     "output_type": "stream",
     "text": [
      "[[ 13  18 112]\n",
      " [ 36  90  90]\n",
      " [ 12 171  48]]\n",
      "[[ 13  18 112]\n",
      " [ 36  90  90]\n",
      " [ 12 171  48]]\n"
     ]
    }
   ],
   "source": [
    "#Matrix Multiplication\n",
    "print(a * b)\n",
    "#or\n",
    "print(np.multiply(a, b))"
   ]
  },
  {
   "cell_type": "code",
   "execution_count": 48,
   "metadata": {},
   "outputs": [
    {
     "name": "stdout",
     "output_type": "stream",
     "text": [
      "(2, 3)\n",
      "[[2 3 2]\n",
      " [8 4 6]]\n"
     ]
    }
   ],
   "source": [
    "#Array Manupulation\n",
    "c = np.random.randint(1, 10, (2, 3))\n",
    "print(c.shape)\n",
    "print(c)"
   ]
  },
  {
   "cell_type": "code",
   "execution_count": 49,
   "metadata": {},
   "outputs": [
    {
     "name": "stdout",
     "output_type": "stream",
     "text": [
      "(3, 2)\n",
      "[[2 8]\n",
      " [3 4]\n",
      " [2 6]]\n"
     ]
    }
   ],
   "source": [
    "#tranpose\n",
    "# t = np.transpose(c)\n",
    "#or\n",
    "t = c.T\n",
    "print(t.shape)\n",
    "print(t)"
   ]
  },
  {
   "cell_type": "code",
   "execution_count": 50,
   "metadata": {},
   "outputs": [
    {
     "name": "stdout",
     "output_type": "stream",
     "text": [
      "[[13 19 15 10 10]\n",
      " [15 13 16 11 13]\n",
      " [12 14 13 12 10]\n",
      " [10 13 15 15 15]]\n",
      "(4, 5)\n"
     ]
    }
   ],
   "source": [
    "#reshaping array\n",
    "a = np.random.randint(10, 20, (4, 5))\n",
    "print(a)\n",
    "print(a.shape)"
   ]
  },
  {
   "cell_type": "code",
   "execution_count": 54,
   "metadata": {},
   "outputs": [
    {
     "name": "stdout",
     "output_type": "stream",
     "text": [
      "[[13 19 15 10 10 15 13 16 11 13]\n",
      " [12 14 13 12 10 10 13 15 15 15]]\n"
     ]
    }
   ],
   "source": [
    "b = a.reshape(2, 10)\n",
    "print(b)"
   ]
  }
 ],
 "metadata": {
  "kernelspec": {
   "display_name": "Python 3",
   "language": "python",
   "name": "python3"
  },
  "language_info": {
   "codemirror_mode": {
    "name": "ipython",
    "version": 3
   },
   "file_extension": ".py",
   "mimetype": "text/x-python",
   "name": "python",
   "nbconvert_exporter": "python",
   "pygments_lexer": "ipython3",
   "version": "3.12.0"
  }
 },
 "nbformat": 4,
 "nbformat_minor": 2
}
