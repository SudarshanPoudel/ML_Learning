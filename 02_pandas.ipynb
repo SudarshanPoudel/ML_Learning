{
 "cells": [
  {
   "cell_type": "code",
   "execution_count": 1,
   "metadata": {},
   "outputs": [],
   "source": [
    "#Importing pandas Libraray\n",
    "import pandas as pd"
   ]
  },
  {
   "cell_type": "markdown",
   "metadata": {},
   "source": [
    "Creating a pandas data frame"
   ]
  },
  {
   "cell_type": "code",
   "execution_count": 11,
   "metadata": {},
   "outputs": [],
   "source": [
    "#Importing boston house price data\n",
    "from sklearn.datasets import fetch_openml \n",
    " \n",
    "boston_dataset = fetch_openml(data_id=506) #506 is id for boston house dataset"
   ]
  },
  {
   "cell_type": "code",
   "execution_count": 12,
   "metadata": {},
   "outputs": [
    {
     "data": {
      "text/plain": [
       "sklearn.utils._bunch.Bunch"
      ]
     },
     "execution_count": 12,
     "metadata": {},
     "output_type": "execute_result"
    }
   ],
   "source": [
    "type(boston_dataset)"
   ]
  },
  {
   "cell_type": "code",
   "execution_count": 13,
   "metadata": {},
   "outputs": [
    {
     "name": "stdout",
     "output_type": "stream",
     "text": [
      "{'data':     Married  Age  Years_of_education Male Religious  Sex_partners   Income  \\\n",
      "0         1   52                  14    0         1             1  32500.0   \n",
      "1         0   58                  16    0         1             0  21250.0   \n",
      "2         0   22                  14    1         1            15   2000.0   \n",
      "3         1   35                  14    1         1             5  21250.0   \n",
      "4         0   43                  20    1         1             1  67500.0   \n",
      "..      ...  ...                 ...  ...       ...           ...      ...   \n",
      "154       1   41                  19    1         0             1  27500.0   \n",
      "155       1   29                  14    0         1             1  27500.0   \n",
      "156       0   45                  12    1         1             1  16250.0   \n",
      "157       1   35                  12    1         1             1  55000.0   \n",
      "158       1   47                  12    0         1             1    500.0   \n",
      "\n",
      "    Drug_use Same_sex_relations  \n",
      "0          0                  0  \n",
      "1          0                  0  \n",
      "2          0                  0  \n",
      "3          0                  0  \n",
      "4          0                  0  \n",
      "..       ...                ...  \n",
      "154        0                  0  \n",
      "155        0                  0  \n",
      "156        0                  0  \n",
      "157        0                  0  \n",
      "158        0                  0  \n",
      "\n",
      "[159 rows x 9 columns], 'target': 0      0\n",
      "1      2\n",
      "2      0\n",
      "3      0\n",
      "4      0\n",
      "      ..\n",
      "154    0\n",
      "155    0\n",
      "156    0\n",
      "157    0\n",
      "158    1\n",
      "Name: AIDS_know, Length: 159, dtype: int64, 'frame':     Married  Age  Years_of_education Male Religious  Sex_partners   Income  \\\n",
      "0         1   52                  14    0         1             1  32500.0   \n",
      "1         0   58                  16    0         1             0  21250.0   \n",
      "2         0   22                  14    1         1            15   2000.0   \n",
      "3         1   35                  14    1         1             5  21250.0   \n",
      "4         0   43                  20    1         1             1  67500.0   \n",
      "..      ...  ...                 ...  ...       ...           ...      ...   \n",
      "154       1   41                  19    1         0             1  27500.0   \n",
      "155       1   29                  14    0         1             1  27500.0   \n",
      "156       0   45                  12    1         1             1  16250.0   \n",
      "157       1   35                  12    1         1             1  55000.0   \n",
      "158       1   47                  12    0         1             1    500.0   \n",
      "\n",
      "    Drug_use Same_sex_relations  AIDS_know  \n",
      "0          0                  0          0  \n",
      "1          0                  0          2  \n",
      "2          0                  0          0  \n",
      "3          0                  0          0  \n",
      "4          0                  0          0  \n",
      "..       ...                ...        ...  \n",
      "154        0                  0          0  \n",
      "155        0                  0          0  \n",
      "156        0                  0          0  \n",
      "157        0                  0          0  \n",
      "158        0                  0          1  \n",
      "\n",
      "[159 rows x 10 columns], 'categories': None, 'feature_names': ['Married', 'Age', 'Years_of_education', 'Male', 'Religious', 'Sex_partners', 'Income', 'Drug_use', 'Same_sex_relations'], 'target_names': ['AIDS_know'], 'DESCR': '**Author**:   \\n**Source**: Unknown - Date unknown  \\n**Please cite**:   \\n\\nanalcatdata    A collection of data sets used in the book \"Analyzing Categorical Data,\"\\nby Jeffrey S. Simonoff, Springer-Verlag, New York, 2003. The submission\\nconsists of a zip file containing two versions of each of 84 data sets,\\nplus this README file. Each data set is given in comma-delimited ASCII\\n(.csv) form, and Microsoft Excel (.xls) form.\\n\\nNOTICE: These data sets may be used freely for scientific, educational and/or\\nnoncommercial purposes, provided suitable acknowledgment is given (by citing\\nthe above-named reference).\\n\\nFurther details concerning the book, including information on statistical software\\n(including sample S-PLUS/R and SAS code), are available at the web site\\n\\nhttp://www.stern.nyu.edu/~jsimonof/AnalCatData\\n\\n\\nInformation about the dataset\\nCLASSTYPE: numeric\\nCLASSINDEX: last\\n\\n\\nNote: Quotes, Single-Quotes and Backslashes were removed, Blanks replaced\\nwith Underscores\\n\\nDownloaded from openml.org.', 'details': {'id': '506', 'name': 'analcatdata_gsssexsurvey', 'version': '1', 'description_version': '1', 'format': 'ARFF', 'creator': 'Jeffrey S. Simonoff', 'collection_date': '2003', 'upload_date': '2014-09-29T00:07:15', 'language': 'English', 'licence': 'Public', 'url': 'https://api.openml.org/data/v1/download/52618/analcatdata_gsssexsurvey.arff', 'parquet_url': 'https://openml1.win.tue.nl/datasets/0000/0506/dataset_506.pq', 'file_id': '52618', 'default_target_attribute': 'AIDS_know', 'citation': 'Jeffrey S. Simonoff, Springer-Verlag, New York, 2003', 'visibility': 'public', 'original_data_url': 'http://www.stern.nyu.edu/~jsimonof/AnalCatData', 'minio_url': 'https://openml1.win.tue.nl/datasets/0000/0506/dataset_506.pq', 'status': 'active', 'processing_date': '2020-11-20 19:45:07', 'md5_checksum': '20f8e3ca05aa824521dc28be7b5d0197'}, 'url': 'https://www.openml.org/d/506'}\n"
     ]
    }
   ],
   "source": [
    "print(boston_dataset)"
   ]
  },
  {
   "cell_type": "code",
   "execution_count": 14,
   "metadata": {},
   "outputs": [],
   "source": [
    "#Pandas dataframe\n",
    "boston_df = pd.DataFrame(boston_dataset.data, columns=boston_dataset.feature_names)"
   ]
  },
  {
   "cell_type": "code",
   "execution_count": 21,
   "metadata": {},
   "outputs": [
    {
     "data": {
      "text/html": [
       "<div>\n",
       "<style scoped>\n",
       "    .dataframe tbody tr th:only-of-type {\n",
       "        vertical-align: middle;\n",
       "    }\n",
       "\n",
       "    .dataframe tbody tr th {\n",
       "        vertical-align: top;\n",
       "    }\n",
       "\n",
       "    .dataframe thead th {\n",
       "        text-align: right;\n",
       "    }\n",
       "</style>\n",
       "<table border=\"1\" class=\"dataframe\">\n",
       "  <thead>\n",
       "    <tr style=\"text-align: right;\">\n",
       "      <th></th>\n",
       "      <th>Married</th>\n",
       "      <th>Age</th>\n",
       "      <th>Years_of_education</th>\n",
       "      <th>Male</th>\n",
       "      <th>Religious</th>\n",
       "      <th>Sex_partners</th>\n",
       "      <th>Income</th>\n",
       "      <th>Drug_use</th>\n",
       "      <th>Same_sex_relations</th>\n",
       "    </tr>\n",
       "  </thead>\n",
       "  <tbody>\n",
       "    <tr>\n",
       "      <th>0</th>\n",
       "      <td>1</td>\n",
       "      <td>52</td>\n",
       "      <td>14</td>\n",
       "      <td>0</td>\n",
       "      <td>1</td>\n",
       "      <td>1</td>\n",
       "      <td>32500.0</td>\n",
       "      <td>0</td>\n",
       "      <td>0</td>\n",
       "    </tr>\n",
       "    <tr>\n",
       "      <th>1</th>\n",
       "      <td>0</td>\n",
       "      <td>58</td>\n",
       "      <td>16</td>\n",
       "      <td>0</td>\n",
       "      <td>1</td>\n",
       "      <td>0</td>\n",
       "      <td>21250.0</td>\n",
       "      <td>0</td>\n",
       "      <td>0</td>\n",
       "    </tr>\n",
       "    <tr>\n",
       "      <th>2</th>\n",
       "      <td>0</td>\n",
       "      <td>22</td>\n",
       "      <td>14</td>\n",
       "      <td>1</td>\n",
       "      <td>1</td>\n",
       "      <td>15</td>\n",
       "      <td>2000.0</td>\n",
       "      <td>0</td>\n",
       "      <td>0</td>\n",
       "    </tr>\n",
       "    <tr>\n",
       "      <th>3</th>\n",
       "      <td>1</td>\n",
       "      <td>35</td>\n",
       "      <td>14</td>\n",
       "      <td>1</td>\n",
       "      <td>1</td>\n",
       "      <td>5</td>\n",
       "      <td>21250.0</td>\n",
       "      <td>0</td>\n",
       "      <td>0</td>\n",
       "    </tr>\n",
       "    <tr>\n",
       "      <th>4</th>\n",
       "      <td>0</td>\n",
       "      <td>43</td>\n",
       "      <td>20</td>\n",
       "      <td>1</td>\n",
       "      <td>1</td>\n",
       "      <td>1</td>\n",
       "      <td>67500.0</td>\n",
       "      <td>0</td>\n",
       "      <td>0</td>\n",
       "    </tr>\n",
       "  </tbody>\n",
       "</table>\n",
       "</div>"
      ],
      "text/plain": [
       "  Married  Age  Years_of_education Male Religious  Sex_partners   Income  \\\n",
       "0       1   52                  14    0         1             1  32500.0   \n",
       "1       0   58                  16    0         1             0  21250.0   \n",
       "2       0   22                  14    1         1            15   2000.0   \n",
       "3       1   35                  14    1         1             5  21250.0   \n",
       "4       0   43                  20    1         1             1  67500.0   \n",
       "\n",
       "  Drug_use Same_sex_relations  \n",
       "0        0                  0  \n",
       "1        0                  0  \n",
       "2        0                  0  \n",
       "3        0                  0  \n",
       "4        0                  0  "
      ]
     },
     "execution_count": 21,
     "metadata": {},
     "output_type": "execute_result"
    }
   ],
   "source": [
    "#Print first 5 rows od data frame\n",
    "boston_df.head()"
   ]
  },
  {
   "cell_type": "code",
   "execution_count": 22,
   "metadata": {},
   "outputs": [
    {
     "data": {
      "text/plain": [
       "(159, 9)"
      ]
     },
     "execution_count": 22,
     "metadata": {},
     "output_type": "execute_result"
    }
   ],
   "source": [
    "#Shape of data frame\n",
    "boston_df.shape"
   ]
  },
  {
   "cell_type": "markdown",
   "metadata": {},
   "source": [
    "Importing csv file in pandas"
   ]
  },
  {
   "cell_type": "code",
   "execution_count": 26,
   "metadata": {},
   "outputs": [],
   "source": [
    "#csv file to pandas df\n",
    "diabitage_df = pd.read_csv('DataSets/diabetes.csv')\n",
    "\n",
    "# We can read excel file with function pd.read_excel('path')"
   ]
  },
  {
   "cell_type": "code",
   "execution_count": 27,
   "metadata": {},
   "outputs": [
    {
     "data": {
      "text/html": [
       "<div>\n",
       "<style scoped>\n",
       "    .dataframe tbody tr th:only-of-type {\n",
       "        vertical-align: middle;\n",
       "    }\n",
       "\n",
       "    .dataframe tbody tr th {\n",
       "        vertical-align: top;\n",
       "    }\n",
       "\n",
       "    .dataframe thead th {\n",
       "        text-align: right;\n",
       "    }\n",
       "</style>\n",
       "<table border=\"1\" class=\"dataframe\">\n",
       "  <thead>\n",
       "    <tr style=\"text-align: right;\">\n",
       "      <th></th>\n",
       "      <th>Pregnancies</th>\n",
       "      <th>Glucose</th>\n",
       "      <th>BloodPressure</th>\n",
       "      <th>SkinThickness</th>\n",
       "      <th>Insulin</th>\n",
       "      <th>BMI</th>\n",
       "      <th>DiabetesPedigreeFunction</th>\n",
       "      <th>Age</th>\n",
       "      <th>Outcome</th>\n",
       "    </tr>\n",
       "  </thead>\n",
       "  <tbody>\n",
       "    <tr>\n",
       "      <th>0</th>\n",
       "      <td>6</td>\n",
       "      <td>148</td>\n",
       "      <td>72</td>\n",
       "      <td>35</td>\n",
       "      <td>0</td>\n",
       "      <td>33.6</td>\n",
       "      <td>0.627</td>\n",
       "      <td>50</td>\n",
       "      <td>1</td>\n",
       "    </tr>\n",
       "    <tr>\n",
       "      <th>1</th>\n",
       "      <td>1</td>\n",
       "      <td>85</td>\n",
       "      <td>66</td>\n",
       "      <td>29</td>\n",
       "      <td>0</td>\n",
       "      <td>26.6</td>\n",
       "      <td>0.351</td>\n",
       "      <td>31</td>\n",
       "      <td>0</td>\n",
       "    </tr>\n",
       "    <tr>\n",
       "      <th>2</th>\n",
       "      <td>8</td>\n",
       "      <td>183</td>\n",
       "      <td>64</td>\n",
       "      <td>0</td>\n",
       "      <td>0</td>\n",
       "      <td>23.3</td>\n",
       "      <td>0.672</td>\n",
       "      <td>32</td>\n",
       "      <td>1</td>\n",
       "    </tr>\n",
       "    <tr>\n",
       "      <th>3</th>\n",
       "      <td>1</td>\n",
       "      <td>89</td>\n",
       "      <td>66</td>\n",
       "      <td>23</td>\n",
       "      <td>94</td>\n",
       "      <td>28.1</td>\n",
       "      <td>0.167</td>\n",
       "      <td>21</td>\n",
       "      <td>0</td>\n",
       "    </tr>\n",
       "    <tr>\n",
       "      <th>4</th>\n",
       "      <td>0</td>\n",
       "      <td>137</td>\n",
       "      <td>40</td>\n",
       "      <td>35</td>\n",
       "      <td>168</td>\n",
       "      <td>43.1</td>\n",
       "      <td>2.288</td>\n",
       "      <td>33</td>\n",
       "      <td>1</td>\n",
       "    </tr>\n",
       "  </tbody>\n",
       "</table>\n",
       "</div>"
      ],
      "text/plain": [
       "   Pregnancies  Glucose  BloodPressure  SkinThickness  Insulin   BMI  \\\n",
       "0            6      148             72             35        0  33.6   \n",
       "1            1       85             66             29        0  26.6   \n",
       "2            8      183             64              0        0  23.3   \n",
       "3            1       89             66             23       94  28.1   \n",
       "4            0      137             40             35      168  43.1   \n",
       "\n",
       "   DiabetesPedigreeFunction  Age  Outcome  \n",
       "0                     0.627   50        1  \n",
       "1                     0.351   31        0  \n",
       "2                     0.672   32        1  \n",
       "3                     0.167   21        0  \n",
       "4                     2.288   33        1  "
      ]
     },
     "execution_count": 27,
     "metadata": {},
     "output_type": "execute_result"
    }
   ],
   "source": [
    "diabitage_df.head()"
   ]
  },
  {
   "cell_type": "code",
   "execution_count": 28,
   "metadata": {},
   "outputs": [
    {
     "data": {
      "text/plain": [
       "(768, 9)"
      ]
     },
     "execution_count": 28,
     "metadata": {},
     "output_type": "execute_result"
    }
   ],
   "source": [
    "diabitage_df.shape"
   ]
  },
  {
   "cell_type": "code",
   "execution_count": 32,
   "metadata": {},
   "outputs": [],
   "source": [
    "#Exporting pandas dataframe as csv\n",
    "boston_df.to_csv('DataSets/boston.csv')\n",
    "\n",
    "#Similaryly we can do boston_df.to_excel('path')"
   ]
  },
  {
   "cell_type": "code",
   "execution_count": null,
   "metadata": {},
   "outputs": [],
   "source": []
  }
 ],
 "metadata": {
  "kernelspec": {
   "display_name": "Python 3",
   "language": "python",
   "name": "python3"
  },
  "language_info": {
   "codemirror_mode": {
    "name": "ipython",
    "version": 3
   },
   "file_extension": ".py",
   "mimetype": "text/x-python",
   "name": "python",
   "nbconvert_exporter": "python",
   "pygments_lexer": "ipython3",
   "version": "3.12.0"
  }
 },
 "nbformat": 4,
 "nbformat_minor": 2
}
